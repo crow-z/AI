{
 "cells": [
  {
   "cell_type": "code",
   "execution_count": 27,
   "metadata": {},
   "outputs": [
    {
     "data": {
      "text/plain": [
       "'2.0.0'"
      ]
     },
     "execution_count": 27,
     "metadata": {},
     "output_type": "execute_result"
    }
   ],
   "source": [
    "import matplotlib.pyplot as plt\n",
    "import tensorflow as tf\n",
    "\n",
    "tf.__version__"
   ]
  },
  {
   "cell_type": "code",
   "execution_count": 28,
   "metadata": {},
   "outputs": [
    {
     "data": {
      "text/plain": [
       "<matplotlib.collections.PathCollection at 0x7f4498612d68>"
      ]
     },
     "execution_count": 28,
     "metadata": {},
     "output_type": "execute_result"
    },
    {
     "data": {
      "image/png": "[encoded data removed]",
      "text/plain": [
       "<Figure size 432x288 with 1 Axes>"
      ]
     },
     "metadata": {
      "needs_background": "light"
     },
     "output_type": "display_data"
    }
   ],
   "source": [
    "####### >>>>>填写<<<<<   设置你想要的真实斜率和截距， 以及数据点(50-200) >>>>>填写<<<<< ############\n",
    "true_w = 1\n",
    "true_b = 0\n",
    "num_samples = 200\n",
    "\n",
    "############################################################################################\n",
    "\n",
    "\n",
    "# 初始化随机数据\n",
    "X = tf.random.normal(shape=[num_samples, 1]).numpy()\n",
    "noise = tf.random.normal(shape=[num_samples, 1]).numpy()\n",
    "\n",
    "####### >>>>>填写<<<<< 在下述函数尾端，添加噪音项, 注意删除下划线 >>>>>填写<<<<<  ################################\n",
    "y = X * true_w + true_b +noise\n",
    "\n",
    "#######################################\n",
    "\n",
    "plt.scatter(X, y)"
   ]
  },
  {
   "cell_type": "code",
   "execution_count": 29,
   "metadata": {},
   "outputs": [],
   "source": [
    "\n",
    "W = tf.Variable(tf.random.uniform([1]))  # 随机初始化参数\n",
    "b = tf.Variable(tf.random.uniform([1]))\n",
    "\n",
    "# >>>>>填写<<<<<  定义一个随机一元一次线性函数  y = W * x + b   >>>>>填写<<<<<  ##\n",
    "# 思考 这里的x为什么是小写？ #\n",
    "def random_line(x):\n",
    "    \n",
    "    y=W*x+b\n",
    " \n",
    "\n",
    "    return y\n"
   ]
  },
  {
   "cell_type": "code",
   "execution_count": 33,
   "metadata": {},
   "outputs": [
    {
     "data": {
      "text/plain": [
       "[<matplotlib.lines.Line2D at 0x7f44985afc18>]"
      ]
     },
     "execution_count": 33,
     "metadata": {},
     "output_type": "execute_result"
    },
    {
     "data": {
      "image/png": "[encoded data removed]",
      "text/plain": [
       "<Figure size 432x288 with 1 Axes>"
      ]
     },
     "metadata": {
      "needs_background": "light"
     },
     "output_type": "display_data"
    }
   ],
   "source": [
    "plt.scatter(X, y)\n",
    "plt.plot(X, random_line(X), c='r')"
   ]
  },
  {
   "cell_type": "code",
   "execution_count": 31,
   "metadata": {},
   "outputs": [],
   "source": [
    "def loss_fn( x, y):\n",
    "    y_ = random_line(x)\n",
    "    return tf.reduce_mean(tf.square(y_ - y))"
   ]
  },
  {
   "cell_type": "code",
   "execution_count": 32,
   "metadata": {},
   "outputs": [
    {
     "name": "stdout",
     "output_type": "stream",
     "text": [
      "Epoch [0/100], loss [1.570], W is [0.568], b is [0.334]\n",
      "Epoch [1/100], loss [1.413], W is [0.651], b is [0.270]\n",
      "Epoch [2/100], loss [1.313], W is [0.718], b is [0.217]\n",
      "Epoch [3/100], loss [1.248], W is [0.771], b is [0.175]\n",
      "Epoch [4/100], loss [1.207], W is [0.814], b is [0.142]\n",
      "Epoch [5/100], loss [1.180], W is [0.848], b is [0.114]\n",
      "Epoch [6/100], loss [1.163], W is [0.875], b is [0.092]\n",
      "Epoch [7/100], loss [1.152], W is [0.897], b is [0.075]\n",
      "Epoch [8/100], loss [1.145], W is [0.914], b is [0.061]\n",
      "Epoch [9/100], loss [1.141], W is [0.928], b is [0.049]\n",
      "Epoch [10/100], loss [1.138], W is [0.940], b is [0.040]\n",
      "Epoch [11/100], loss [1.136], W is [0.948], b is [0.033]\n",
      "Epoch [12/100], loss [1.134], W is [0.956], b is [0.027]\n",
      "Epoch [13/100], loss [1.134], W is [0.961], b is [0.022]\n",
      "Epoch [14/100], loss [1.133], W is [0.966], b is [0.018]\n",
      "Epoch [15/100], loss [1.133], W is [0.970], b is [0.015]\n",
      "Epoch [16/100], loss [1.133], W is [0.972], b is [0.012]\n",
      "Epoch [17/100], loss [1.133], W is [0.975], b is [0.010]\n",
      "Epoch [18/100], loss [1.132], W is [0.977], b is [0.009]\n",
      "Epoch [19/100], loss [1.132], W is [0.978], b is [0.007]\n",
      "Epoch [20/100], loss [1.132], W is [0.979], b is [0.006]\n",
      "Epoch [21/100], loss [1.132], W is [0.980], b is [0.006]\n",
      "Epoch [22/100], loss [1.132], W is [0.981], b is [0.005]\n",
      "Epoch [23/100], loss [1.132], W is [0.982], b is [0.004]\n",
      "Epoch [24/100], loss [1.132], W is [0.982], b is [0.004]\n",
      "Epoch [25/100], loss [1.132], W is [0.983], b is [0.004]\n",
      "Epoch [26/100], loss [1.132], W is [0.983], b is [0.003]\n",
      "Epoch [27/100], loss [1.132], W is [0.983], b is [0.003]\n",
      "Epoch [28/100], loss [1.132], W is [0.983], b is [0.003]\n",
      "Epoch [29/100], loss [1.132], W is [0.984], b is [0.003]\n",
      "Epoch [30/100], loss [1.132], W is [0.984], b is [0.003]\n",
      "Epoch [31/100], loss [1.132], W is [0.984], b is [0.002]\n",
      "Epoch [32/100], loss [1.132], W is [0.984], b is [0.002]\n",
      "Epoch [33/100], loss [1.132], W is [0.984], b is [0.002]\n",
      "Epoch [34/100], loss [1.132], W is [0.984], b is [0.002]\n",
      "Epoch [35/100], loss [1.132], W is [0.984], b is [0.002]\n",
      "Epoch [36/100], loss [1.132], W is [0.984], b is [0.002]\n",
      "Epoch [37/100], loss [1.132], W is [0.984], b is [0.002]\n",
      "Epoch [38/100], loss [1.132], W is [0.984], b is [0.002]\n",
      "Epoch [39/100], loss [1.132], W is [0.984], b is [0.002]\n",
      "Epoch [40/100], loss [1.132], W is [0.984], b is [0.002]\n",
      "Epoch [41/100], loss [1.132], W is [0.984], b is [0.002]\n",
      "Epoch [42/100], loss [1.132], W is [0.984], b is [0.002]\n",
      "Epoch [43/100], loss [1.132], W is [0.984], b is [0.002]\n",
      "Epoch [44/100], loss [1.132], W is [0.984], b is [0.002]\n",
      "Epoch [45/100], loss [1.132], W is [0.984], b is [0.002]\n",
      "Epoch [46/100], loss [1.132], W is [0.984], b is [0.002]\n",
      "Epoch [47/100], loss [1.132], W is [0.984], b is [0.002]\n",
      "Epoch [48/100], loss [1.132], W is [0.984], b is [0.002]\n",
      "Epoch [49/100], loss [1.132], W is [0.984], b is [0.002]\n",
      "Epoch [50/100], loss [1.132], W is [0.984], b is [0.002]\n",
      "Epoch [51/100], loss [1.132], W is [0.984], b is [0.002]\n",
      "Epoch [52/100], loss [1.132], W is [0.984], b is [0.002]\n",
      "Epoch [53/100], loss [1.132], W is [0.984], b is [0.002]\n",
      "Epoch [54/100], loss [1.132], W is [0.984], b is [0.002]\n",
      "Epoch [55/100], loss [1.132], W is [0.984], b is [0.002]\n",
      "Epoch [56/100], loss [1.132], W is [0.984], b is [0.002]\n",
      "Epoch [57/100], loss [1.132], W is [0.984], b is [0.002]\n",
      "Epoch [58/100], loss [1.132], W is [0.984], b is [0.002]\n",
      "Epoch [59/100], loss [1.132], W is [0.984], b is [0.002]\n",
      "Epoch [60/100], loss [1.132], W is [0.984], b is [0.002]\n",
      "Epoch [61/100], loss [1.132], W is [0.984], b is [0.002]\n",
      "Epoch [62/100], loss [1.132], W is [0.984], b is [0.002]\n",
      "Epoch [63/100], loss [1.132], W is [0.984], b is [0.002]\n",
      "Epoch [64/100], loss [1.132], W is [0.984], b is [0.002]\n",
      "Epoch [65/100], loss [1.132], W is [0.984], b is [0.002]\n",
      "Epoch [66/100], loss [1.132], W is [0.984], b is [0.002]\n",
      "Epoch [67/100], loss [1.132], W is [0.984], b is [0.002]\n",
      "Epoch [68/100], loss [1.132], W is [0.984], b is [0.002]\n",
      "Epoch [69/100], loss [1.132], W is [0.984], b is [0.002]\n",
      "Epoch [70/100], loss [1.132], W is [0.984], b is [0.002]\n",
      "Epoch [71/100], loss [1.132], W is [0.984], b is [0.002]\n",
      "Epoch [72/100], loss [1.132], W is [0.984], b is [0.002]\n",
      "Epoch [73/100], loss [1.132], W is [0.984], b is [0.002]\n",
      "Epoch [74/100], loss [1.132], W is [0.984], b is [0.002]\n",
      "Epoch [75/100], loss [1.132], W is [0.984], b is [0.002]\n",
      "Epoch [76/100], loss [1.132], W is [0.984], b is [0.002]\n",
      "Epoch [77/100], loss [1.132], W is [0.984], b is [0.002]\n",
      "Epoch [78/100], loss [1.132], W is [0.984], b is [0.002]\n",
      "Epoch [79/100], loss [1.132], W is [0.984], b is [0.002]\n",
      "Epoch [80/100], loss [1.132], W is [0.984], b is [0.002]\n",
      "Epoch [81/100], loss [1.132], W is [0.984], b is [0.002]\n",
      "Epoch [82/100], loss [1.132], W is [0.984], b is [0.002]\n",
      "Epoch [83/100], loss [1.132], W is [0.984], b is [0.002]\n",
      "Epoch [84/100], loss [1.132], W is [0.984], b is [0.002]\n",
      "Epoch [85/100], loss [1.132], W is [0.984], b is [0.002]\n",
      "Epoch [86/100], loss [1.132], W is [0.984], b is [0.002]\n",
      "Epoch [87/100], loss [1.132], W is [0.984], b is [0.002]\n",
      "Epoch [88/100], loss [1.132], W is [0.984], b is [0.002]\n",
      "Epoch [89/100], loss [1.132], W is [0.984], b is [0.002]\n",
      "Epoch [90/100], loss [1.132], W is [0.984], b is [0.002]\n",
      "Epoch [91/100], loss [1.132], W is [0.984], b is [0.002]\n",
      "Epoch [92/100], loss [1.132], W is [0.984], b is [0.002]\n",
      "Epoch [93/100], loss [1.132], W is [0.984], b is [0.002]\n",
      "Epoch [94/100], loss [1.132], W is [0.984], b is [0.002]\n",
      "Epoch [95/100], loss [1.132], W is [0.984], b is [0.002]\n",
      "Epoch [96/100], loss [1.132], W is [0.984], b is [0.002]\n",
      "Epoch [97/100], loss [1.132], W is [0.984], b is [0.002]\n",
      "Epoch [98/100], loss [1.132], W is [0.984], b is [0.002]\n",
      "Epoch [99/100], loss [1.132], W is [0.984], b is [0.002]\n"
     ]
    }
   ],
   "source": [
    "### >>>>>填写<<<<< 通过改变epochs 的值，推荐起始10， 和learning rate 学习率 推荐0.1起始 观察梯度下降学习的线性函数w b的值，以及loss函数的变化>>>>>填写<<<<<  ######\n",
    "\n",
    "EPOCHS = 100\n",
    "LEARNING_RATE =0.1 \n",
    "#######################################################################################################################################\n",
    "\n",
    "\n",
    "\n",
    "for epoch in range(EPOCHS):  # 迭代次数\n",
    "    with tf.GradientTape() as tape:  # 追踪梯度\n",
    "        loss = loss_fn(X, y)  # 计算损失\n",
    "    dW, db = tape.gradient(loss, [W, b])  # 计算梯度\n",
    "    W.assign_sub(LEARNING_RATE * dW)  # 更新梯度\n",
    "    b.assign_sub(LEARNING_RATE * db)\n",
    "    # 输出计算过程\n",
    "    print('Epoch [{}/{}], loss [{:.3f}], W is [{:.3f}], b is [{:.3f}]'.format(epoch, EPOCHS, loss,\n",
    "                                                                     float(W.numpy()),\n",
    "                                                                     float(b.numpy())))"
   ]
  },
  {
   "cell_type": "code",
   "execution_count": null,
   "metadata": {},
   "outputs": [],
   "source": []
  },
  {
   "cell_type": "code",
   "execution_count": null,
   "metadata": {},
   "outputs": [],
   "source": []
  }
 ],
 "metadata": {
  "kernelspec": {
   "display_name": "Python 3",
   "language": "python",
   "name": "python3"
  },
  "language_info": {
   "codemirror_mode": {
    "name": "ipython",
    "version": 3
   },
   "file_extension": ".py",
   "mimetype": "text/x-python",
   "name": "python",
   "nbconvert_exporter": "python",
   "pygments_lexer": "ipython3",
   "version": "3.7.3"
  }
 },
 "nbformat": 4,
 "nbformat_minor": 2
}

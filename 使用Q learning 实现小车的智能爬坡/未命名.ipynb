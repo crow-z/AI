{
 "cells": [
  {
   "cell_type": "code",
   "execution_count": 60,
   "metadata": {},
   "outputs": [],
   "source": [
    "import numpy as np\n",
    "import gym\n",
    "from gym import wrappers\n",
    "import turtle"
   ]
  },
  {
   "cell_type": "code",
   "execution_count": 76,
   "metadata": {},
   "outputs": [
    {
     "name": "stdout",
     "output_type": "stream",
     "text": [
      "请输入华氏温度100\n",
      "华氏温度100等于摄氏温度37\n"
     ]
    }
   ],
   "source": [
    "f=float(input('请输入华氏温度'))\n",
    "c=(f-32)/1.8\n",
    "print(\"华氏温度%d等于摄氏温度%d\"%(f,c))"
   ]
  },
  {
   "cell_type": "code",
   "execution_count": 84,
   "metadata": {},
   "outputs": [
    {
     "name": "stdout",
     "output_type": "stream",
     "text": [
      "请输入年份2001\n",
      "该年份不是闰年\n"
     ]
    }
   ],
   "source": [
    "year=int(input('请输入年份'))\n",
    "if year<0:\n",
    "    print(\"error\")\n",
    "elif year%4 == 0 :\n",
    "    print(\"该年份为闰年\")\n",
    "else:\n",
    "    print(\"该年份不是闰年\")\n"
   ]
  },
  {
   "cell_type": "code",
   "execution_count": 101,
   "metadata": {},
   "outputs": [
    {
     "name": "stdout",
     "output_type": "stream",
     "text": [
      "2550\n"
     ]
    }
   ],
   "source": [
    "sum=0\n",
    "for x in range(101):\n",
    "    if x%2 == 0:\n",
    "        sum+=x\n",
    "print(sum)"
   ]
  },
  {
   "cell_type": "code",
   "execution_count": null,
   "metadata": {},
   "outputs": [],
   "source": [
    "import random\n",
    "\n",
    "answer = random.randint(1, 100)\n",
    "counter = 0\n",
    "while True:\n",
    "    counter += 1\n",
    "    number = int(input('请输入: '))\n",
    "    if number < answer:\n",
    "        print('大一点')\n",
    "    elif number > answer:\n",
    "        print('小一点')\n",
    "    else:\n",
    "        print('恭喜你猜对了!')\n",
    "        break\n",
    "print('你总共猜了%d次' % counter)\n",
    "if counter > 7:\n",
    "    print('你的智商余额明显不足')"
   ]
  },
  {
   "cell_type": "code",
   "execution_count": null,
   "metadata": {},
   "outputs": [],
   "source": [
    "from math import sqrt\n",
    "\n",
    "num = int(input('请输入一个正整数: '))\n",
    "end = int(sqrt(num))\n",
    "is_prime = True\n",
    "for x in range(2, end + 1):\n",
    "    if num % x == 0:\n",
    "        is_prime = False\n",
    "        break\n",
    "if is_prime and num != 1:\n",
    "    print('%d是素数' % num)\n",
    "else:\n",
    "    print('%d不是素数' % num)"
   ]
  },
  {
   "cell_type": "markdown",
   "metadata": {},
   "source": [
    "1# def draw_rectangle(x, y, width, height):\n",
    "    turtle.goto(x, y)\n",
    "    turtle.pencolor('red')\n",
    "    turtle.fillcolor('red')\n",
    "    turtle.begin_fill()\n",
    "    for i in range(2):\n",
    "        turtle.forward(width)\n",
    "        turtle.left(90)\n",
    "        turtle.forward(height)\n",
    "        turtle.left(90)\n",
    "    turtle.end_fill()\n",
    "\n",
    "\n",
    "def draw_star(x, y, radius):\n",
    "\n",
    "    turtle.setpos(x, y)\n",
    "    pos1 = turtle.pos()\n",
    "    turtle.circle(-radius, 72)\n",
    "    pos2 = turtle.pos()\n",
    "    turtle.circle(-radius, 72)\n",
    "    pos3 = turtle.pos()\n",
    "    turtle.circle(-radius, 72)\n",
    "    pos4 = turtle.pos()\n",
    "    turtle.circle(-radius, 72)\n",
    "    pos5 = turtle.pos()\n",
    "    turtle.color('yellow', 'yellow')\n",
    "    turtle.begin_fill()\n",
    "    turtle.goto(pos3)\n",
    "    turtle.goto(pos1)\n",
    "    turtle.goto(pos4)\n",
    "    turtle.goto(pos2)\n",
    "    turtle.goto(pos5)\n",
    "    turtle.end_fill()\n",
    "\n",
    "\n",
    "def main():\n",
    "    \"\"\"主程序\"\"\"\n",
    "    turtle.speed(12)\n",
    "    turtle.penup()\n",
    "    x, y = -270, -180\n",
    "    # 画国旗主体\n",
    "    width, height = 540, 360\n",
    "    draw_rectangle(x, y, width, height)\n",
    "    # 画大星星\n",
    "    pice = 22\n",
    "    center_x, center_y = x + 5 * pice, y + height - pice * 5\n",
    "    turtle.goto(center_x, center_y)\n",
    "    turtle.left(90)\n",
    "    turtle.forward(pice * 3)\n",
    "    turtle.right(90)\n",
    "    draw_star(turtle.xcor(), turtle.ycor(), pice * 3)\n",
    "    x_poses, y_poses = [10, 12, 12, 10], [2, 4, 7, 9]\n",
    "    # 画小星星\n",
    "    for x_pos, y_pos in zip(x_poses, y_poses):\n",
    "        turtle.goto(x + x_pos * pice, y + height - y_pos * pice)\n",
    "        turtle.left(turtle.towards(center_x, center_y) - turtle.heading())\n",
    "        turtle.forward(pice)\n",
    "        turtle.right(90)\n",
    "        draw_star(turtle.xcor(), turtle.ycor(), pice)\n",
    "    # 隐藏海龟\n",
    "    turtle.ht()\n",
    "    # 显示绘图窗口\n",
    "    turtle.mainloop()\n",
    "\n",
    "\n",
    "if __name__ == '__main__':\n",
    "    main()"
   ]
  },
  {
   "cell_type": "code",
   "execution_count": null,
   "metadata": {},
   "outputs": [],
   "source": []
  },
  {
   "cell_type": "code",
   "execution_count": 9,
   "metadata": {},
   "outputs": [
    {
     "ename": "SyntaxError",
     "evalue": "invalid syntax (<ipython-input-9-267731d35d26>, line 14)",
     "output_type": "error",
     "traceback": [
      "\u001b[0;36m  File \u001b[0;32m\"<ipython-input-9-267731d35d26>\"\u001b[0;36m, line \u001b[0;32m14\u001b[0m\n\u001b[0;31m    for_ in range(t_max):\u001b[0m\n\u001b[0m                         ^\u001b[0m\n\u001b[0;31mSyntaxError\u001b[0m\u001b[0;31m:\u001b[0m invalid syntax\n"
     ]
    }
   ],
   "source": [
    "n_states = 40\n",
    "iter_max = 10000\n",
    "\n",
    "initial_lr = 1.0\n",
    "min_lr = 0.03\n",
    "gamma = 1.0\n",
    "t_max = 10000\n",
    "eps = 0.02\n",
    "\n",
    "def run_episode(env,policy=None,render=False):\n",
    "    obs = env.resent()\n",
    "    total_reward = 0\n",
    "    step_idx = 0\n",
    "    for_ in range(t_max):\n",
    "        if reader:\n",
    "            env.reader()\n",
    "            total_reward=0\n",
    "            step_idx = 0\n",
    "        if policy is None:\n",
    "            action = env.action_space.sample()\n",
    "        else:\n",
    "            a,b = obs_to_state(env,obs)\n",
    "            action = policy[a][b]\n",
    "        obs,reward,done,_ = env.step(action)\n",
    "        total_reward+ = gamma ** step_idx *reward\n",
    "        step_idx+ = 1\n",
    "        if done:\n",
    "            break\n",
    "        return total_reward\n",
    "def obs_to_state(env,obs):\n",
    "    env_low = env.observation_space.low\n",
    "    env_high = env.observation_space.high\n",
    "    env_dx = (env.high - env.low)/n_states\n",
    "    a = int((obs[0]-env_low[0])/env_dx[0])\n",
    "    b = int((obs[1]-env_low[1])/env_dx[1])\n",
    "    \n",
    "if __name__ == '__main__':\n",
    "    env_name = 'MountainCar-v0'\n",
    "    env = gym.make(env_name)\n",
    "    env.seed(0)\n",
    "    np.random.seed(0)\n",
    "    print('-----using Q learning-----')\n",
    "    q_table = np.zeros((n_states,n_states,3))\n",
    "    for i in range(iter_max):\n",
    "        obs = env.reset()\n",
    "        total_reward=0\n",
    "        eta=max(min_lr,initial_lr*(0.85**(i//100)))\n",
    "        for i in range(t_max):\n",
    "            a,b = obs_to_state(env,obs)\n",
    "            if np.random.uniform(0,1)<eps:\n",
    "                action = np.random.choice(env.action_space.n)\n",
    "            else:\n",
    "                logits = q_table[a][b]\n",
    "                logits_exp = np.exp(logits)\n",
    "                probs = logits_exp/np.sum(logits_exp)\n",
    "                action = np.random.choice(env.action_space.n, p=probs)\n",
    "            obs, reward, done, _ = env.step(action)\n",
    "            total_reward += (gamma ** j) * reward\n",
    "            # update q table\n",
    "            a_, b_ = obs_to_state(env, obs)\n",
    "            q_table[a][b][action] = q_table[a][b][action] + eta * (reward + gamma *  np.max(q_table[a_][b_]) - q_table[a][b][action])\n",
    "            if done:\n",
    "                break\n",
    "        if i % 100 == 0:\n",
    "            print('Iteration #%d -- Total reward = %d.' %(i+1, total_reward))\n",
    "    solution_policy = np.argmax(q_table, axis=2)\n",
    "    solution_policy_scores = [run_episode(env, solution_policy, False) for _ in range(100)]\n",
    "    print(\"Average score of solution = \", np.mean(solution_policy_scores))\n",
    "    # Animate it\n",
    "    run_episode(env, solution_policy, True)\n",
    "                \n",
    "\n",
    "\n",
    "                \n",
    "    "
   ]
  },
  {
   "cell_type": "code",
   "execution_count": null,
   "metadata": {},
   "outputs": [],
   "source": []
  }
 ],
 "metadata": {
  "kernelspec": {
   "display_name": "Python 3",
   "language": "python",
   "name": "python3"
  },
  "language_info": {
   "codemirror_mode": {
    "name": "ipython",
    "version": 3
   },
   "file_extension": ".py",
   "mimetype": "text/x-python",
   "name": "python",
   "nbconvert_exporter": "python",
   "pygments_lexer": "ipython3",
   "version": "3.7.3"
  }
 },
 "nbformat": 4,
 "nbformat_minor": 2
}
